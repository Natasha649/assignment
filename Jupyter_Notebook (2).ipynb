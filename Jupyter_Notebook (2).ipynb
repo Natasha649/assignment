{
 "cells": [
  {
   "cell_type": "markdown",
   "metadata": {},
   "source": [
    "<center>\n",
    "    <img src=\"https://cf-courses-data.s3.us.cloud-object-storage.appdomain.cloud/IBMDeveloperSkillsNetwork-DS0105EN-SkillsNetwork/labs/Module2/images/SN_web_lightmode.png\" width=\"300\" alt=\"cognitiveclass.ai logo\"  />\n",
    "</center>\n"
   ]
  },
  {
   "cell_type": "markdown",
   "metadata": {},
   "source": [
    "<html>\n",
    "   <head>\n",
    "       <H1>My Jupyter Notebook on IBM Watson Studio</H1>\n",
    "    </head>   "
   ]
  },
  {
   "cell_type": "markdown",
   "metadata": {},
   "source": [
    "<body>\n",
    "<b>NATASHA</b>\n",
    "        <p>Student</p>"
   ]
  },
  {
   "cell_type": "markdown",
   "metadata": {},
   "source": [
    "<p><i>\"I am interested in data science because i will get to learn through every step by working in this field \"</i></p>"
   ]
  },
  {
   "cell_type": "markdown",
   "metadata": {},
   "source": [
    "<H3>Add two numbers and print the result:</H3>  "
   ]
  },
  {
   "cell_type": "code",
   "execution_count": 8,
   "metadata": {},
   "outputs": [
    {
     "name": "stdout",
     "output_type": "stream",
     "text": [
      "5\n"
     ]
    }
   ],
   "source": [
    "a=3\n",
    "b=2\n",
    "c=a+b\n",
    "print(c)"
   ]
  },
  {
   "cell_type": "markdown",
   "metadata": {},
   "source": [
    "<p><b>Numbered List</b><p>\n",
    "<ol>\n",
    "<li>List 1</li>\n",
    "<li>List 2</li>\n",
    "<li>List 3</li>\n",
    "    \n",
    "<p><b>Bulleted List</b></p>\n",
    "<ul>\n",
    "<li>Bulleted 1</li>\n",
    "<li>Bulleted 2</li>\n",
    "<li>Bulleted 3</li>\n",
    "    </ul>\n",
    "    \n",
    "<table>\n",
    "<tr>\n",
    "    <th>ID</th>\n",
    "    <th>Day</th>\n",
    "    <th>Date</th>\n",
    "    </tr>\n",
    "    <tr>\n",
    "<td>1</td>\n",
    "<td>Sunday</td>\n",
    "<td>01/01/2023</td>\n",
    "</tr>\n",
    "<tr>\n",
    "<td>2</td>\n",
    "<td>Monday</td>\n",
    "<td>02/01/2023</td>\n",
    "</tr>\n",
    "<tr>\n",
    "<td>3</td>\n",
    "<td>Tuesday</td>\n",
    "<td>03/01/2023</td>\n",
    "</tr>\n",
    "</table>"
   ]
  }
 ],
 "metadata": {
  "kernelspec": {
   "display_name": "Python",
   "language": "python",
   "name": "conda-env-python-py"
  },
  "language_info": {
   "codemirror_mode": {
    "name": "ipython",
    "version": 3
   },
   "file_extension": ".py",
   "mimetype": "text/x-python",
   "name": "python",
   "nbconvert_exporter": "python",
   "pygments_lexer": "ipython3",
   "version": "3.7.12"
  }
 },
 "nbformat": 4,
 "nbformat_minor": 4
}
